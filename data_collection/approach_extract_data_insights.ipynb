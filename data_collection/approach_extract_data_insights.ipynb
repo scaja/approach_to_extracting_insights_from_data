{
 "cells": [
  {
   "cell_type": "markdown",
   "metadata": {},
   "source": [
    "# **Data collection**"
   ]
  },
  {
   "cell_type": "markdown",
   "metadata": {},
   "source": [
    "### Read data into dataframe"
   ]
  },
  {
   "cell_type": "code",
   "execution_count": 1711,
   "metadata": {},
   "outputs": [
    {
     "name": "stdout",
     "output_type": "stream",
     "text": [
      "read successfully\n"
     ]
    }
   ],
   "source": [
    "import pandas as pd # open source data analysis and manipulation tool\n",
    "animals = pd.read_csv(\"./animals_feed.csv\") # read csv file\n",
    "print('read successfully')"
   ]
  },
  {
   "cell_type": "markdown",
   "metadata": {},
   "source": [
    "### Check dimension of dataframe"
   ]
  },
  {
   "cell_type": "code",
   "execution_count": 1712,
   "metadata": {},
   "outputs": [
    {
     "data": {
      "text/plain": [
       "(20, 10)"
      ]
     },
     "execution_count": 1712,
     "metadata": {},
     "output_type": "execute_result"
    }
   ],
   "source": [
    "animals.shape # check dimension of datframe"
   ]
  },
  {
   "cell_type": "markdown",
   "metadata": {},
   "source": [
    "### Check first colums of dataframe"
   ]
  },
  {
   "cell_type": "code",
   "execution_count": 1713,
   "metadata": {},
   "outputs": [
    {
     "data": {
      "text/html": [
       "<div>\n",
       "<style scoped>\n",
       "    .dataframe tbody tr th:only-of-type {\n",
       "        vertical-align: middle;\n",
       "    }\n",
       "\n",
       "    .dataframe tbody tr th {\n",
       "        vertical-align: top;\n",
       "    }\n",
       "\n",
       "    .dataframe thead th {\n",
       "        text-align: right;\n",
       "    }\n",
       "</style>\n",
       "<table border=\"1\" class=\"dataframe\">\n",
       "  <thead>\n",
       "    <tr style=\"text-align: right;\">\n",
       "      <th></th>\n",
       "      <th>id</th>\n",
       "      <th>animal</th>\n",
       "      <th>mammal</th>\n",
       "      <th>carrot vegetable</th>\n",
       "      <th>chicken meat</th>\n",
       "      <th>pork meat</th>\n",
       "      <th>grains vegetable</th>\n",
       "      <th>mouse meat</th>\n",
       "      <th>spider insect</th>\n",
       "      <th>leaves vegetable</th>\n",
       "    </tr>\n",
       "  </thead>\n",
       "  <tbody>\n",
       "    <tr>\n",
       "      <th>0</th>\n",
       "      <td>1</td>\n",
       "      <td>Iberian hare</td>\n",
       "      <td>yes</td>\n",
       "      <td>yes</td>\n",
       "      <td>no</td>\n",
       "      <td>no</td>\n",
       "      <td>yes</td>\n",
       "      <td>no</td>\n",
       "      <td>no</td>\n",
       "      <td>no</td>\n",
       "    </tr>\n",
       "    <tr>\n",
       "      <th>1</th>\n",
       "      <td>2</td>\n",
       "      <td>Golden retriever</td>\n",
       "      <td>yes</td>\n",
       "      <td>yes</td>\n",
       "      <td>yes</td>\n",
       "      <td>yes</td>\n",
       "      <td>yes</td>\n",
       "      <td>no</td>\n",
       "      <td>no</td>\n",
       "      <td>no</td>\n",
       "    </tr>\n",
       "    <tr>\n",
       "      <th>2</th>\n",
       "      <td>3</td>\n",
       "      <td>balinese cat</td>\n",
       "      <td>yes</td>\n",
       "      <td>yes</td>\n",
       "      <td>yes</td>\n",
       "      <td>yes</td>\n",
       "      <td>no</td>\n",
       "      <td>yes</td>\n",
       "      <td>no</td>\n",
       "      <td>no</td>\n",
       "    </tr>\n",
       "    <tr>\n",
       "      <th>3</th>\n",
       "      <td>4</td>\n",
       "      <td>sparrow</td>\n",
       "      <td>no</td>\n",
       "      <td>yes</td>\n",
       "      <td>no</td>\n",
       "      <td>no</td>\n",
       "      <td>yes</td>\n",
       "      <td>no</td>\n",
       "      <td>yes</td>\n",
       "      <td>yes</td>\n",
       "    </tr>\n",
       "    <tr>\n",
       "      <th>4</th>\n",
       "      <td>5</td>\n",
       "      <td>coati</td>\n",
       "      <td>yes</td>\n",
       "      <td>yes</td>\n",
       "      <td>no</td>\n",
       "      <td>no</td>\n",
       "      <td>no</td>\n",
       "      <td>yes</td>\n",
       "      <td>no</td>\n",
       "      <td>no</td>\n",
       "    </tr>\n",
       "  </tbody>\n",
       "</table>\n",
       "</div>"
      ],
      "text/plain": [
       "   id            animal mammal carrot vegetable chicken meat pork meat  \\\n",
       "0   1      Iberian hare    yes              yes           no        no   \n",
       "1   2  Golden retriever    yes              yes          yes       yes   \n",
       "2   3      balinese cat    yes              yes          yes       yes   \n",
       "3   4           sparrow     no              yes           no        no   \n",
       "4   5             coati    yes              yes           no        no   \n",
       "\n",
       "  grains vegetable mouse meat spider insect leaves vegetable  \n",
       "0              yes         no            no               no  \n",
       "1              yes         no            no               no  \n",
       "2               no        yes            no               no  \n",
       "3              yes         no           yes              yes  \n",
       "4               no        yes            no               no  "
      ]
     },
     "execution_count": 1713,
     "metadata": {},
     "output_type": "execute_result"
    }
   ],
   "source": [
    "animals.head() # print dataframe "
   ]
  },
  {
   "cell_type": "markdown",
   "metadata": {},
   "source": [
    "# **Data understanding**"
   ]
  },
  {
   "cell_type": "markdown",
   "metadata": {},
   "source": [
    "### Check existing names"
   ]
  },
  {
   "cell_type": "code",
   "execution_count": 1714,
   "metadata": {},
   "outputs": [
    {
     "name": "stdout",
     "output_type": "stream",
     "text": [
      "['chicken meat', 'pork meat', 'mouse meat']\n",
      "['carrot vegetable', 'grains vegetable', 'leaves vegetable']\n",
      "['spider insect']\n"
     ]
    }
   ],
   "source": [
    "import re # regular expression\n",
    "column_names = list(animals.columns.values)\n",
    "print([match.group(0) for column_name in column_names for match in [(re.compile(\".*(meat).*\")).search(column_name)] if match])\n",
    "print([match.group(0) for column_name in column_names for match in [(re.compile(\".*(veg).*\")).search(column_name)] if match])\n",
    "print([match.group(0) for column_name in column_names for match in [(re.compile(\".*(insec).*\")).search(column_name)] if match])"
   ]
  },
  {
   "cell_type": "markdown",
   "metadata": {},
   "source": [
    "##### There are just as many types of vegetables as there are types of meat in the dataframe"
   ]
  },
  {
   "cell_type": "code",
   "execution_count": 1715,
   "metadata": {},
   "outputs": [
    {
     "data": {
      "text/plain": [
       "mammal\n",
       "yes    16\n",
       "no      4\n",
       "Name: count, dtype: int64"
      ]
     },
     "execution_count": 1715,
     "metadata": {},
     "output_type": "execute_result"
    }
   ],
   "source": [
    "animals[\"mammal\"].value_counts() "
   ]
  },
  {
   "cell_type": "markdown",
   "metadata": {},
   "source": [
    "##### There are more mammals than vertebrates in the dataframe"
   ]
  },
  {
   "cell_type": "markdown",
   "metadata": {},
   "source": [
    "# **Data preparation**"
   ]
  },
  {
   "cell_type": "markdown",
   "metadata": {},
   "source": [
    "### Check double entries"
   ]
  },
  {
   "cell_type": "code",
   "execution_count": 1716,
   "metadata": {},
   "outputs": [
    {
     "data": {
      "text/plain": [
       "animal\n",
       "Iberian hare         1\n",
       "Golden retriever     1\n",
       "tortoise             1\n",
       "border collie        1\n",
       "Whinchat             1\n",
       "Adder                1\n",
       "Java Leopard         1\n",
       "Lion                 1\n",
       "Bombay cat           1\n",
       "icebear              1\n",
       "Indian sloth bear    1\n",
       "Lowland gorilla      1\n",
       "Bonobo monkey        1\n",
       "Bearded monkey       1\n",
       "Jaguar               1\n",
       "Warthog              1\n",
       "coati                1\n",
       "sparrow              1\n",
       "balinese cat         1\n",
       "Guinea pig           1\n",
       "Name: count, dtype: int64"
      ]
     },
     "execution_count": 1716,
     "metadata": {},
     "output_type": "execute_result"
    }
   ],
   "source": [
    "animals['animal'].value_counts()"
   ]
  },
  {
   "cell_type": "markdown",
   "metadata": {},
   "source": [
    "##### there a no double entries"
   ]
  },
  {
   "cell_type": "markdown",
   "metadata": {},
   "source": [
    "### change column values "
   ]
  },
  {
   "cell_type": "code",
   "execution_count": 1717,
   "metadata": {},
   "outputs": [
    {
     "data": {
      "text/html": [
       "<div>\n",
       "<style scoped>\n",
       "    .dataframe tbody tr th:only-of-type {\n",
       "        vertical-align: middle;\n",
       "    }\n",
       "\n",
       "    .dataframe tbody tr th {\n",
       "        vertical-align: top;\n",
       "    }\n",
       "\n",
       "    .dataframe thead th {\n",
       "        text-align: right;\n",
       "    }\n",
       "</style>\n",
       "<table border=\"1\" class=\"dataframe\">\n",
       "  <thead>\n",
       "    <tr style=\"text-align: right;\">\n",
       "      <th></th>\n",
       "      <th>id</th>\n",
       "      <th>animal</th>\n",
       "      <th>mammal</th>\n",
       "      <th>carrot vegetable</th>\n",
       "      <th>chicken meat</th>\n",
       "      <th>pork meat</th>\n",
       "      <th>grains vegetable</th>\n",
       "      <th>mouse meat</th>\n",
       "      <th>spider insect</th>\n",
       "      <th>leaves vegetable</th>\n",
       "    </tr>\n",
       "  </thead>\n",
       "  <tbody>\n",
       "    <tr>\n",
       "      <th>0</th>\n",
       "      <td>1</td>\n",
       "      <td>Iberian hare</td>\n",
       "      <td>mammal</td>\n",
       "      <td>yes</td>\n",
       "      <td>no</td>\n",
       "      <td>no</td>\n",
       "      <td>yes</td>\n",
       "      <td>no</td>\n",
       "      <td>no</td>\n",
       "      <td>no</td>\n",
       "    </tr>\n",
       "    <tr>\n",
       "      <th>1</th>\n",
       "      <td>2</td>\n",
       "      <td>Golden retriever</td>\n",
       "      <td>mammal</td>\n",
       "      <td>yes</td>\n",
       "      <td>yes</td>\n",
       "      <td>yes</td>\n",
       "      <td>yes</td>\n",
       "      <td>no</td>\n",
       "      <td>no</td>\n",
       "      <td>no</td>\n",
       "    </tr>\n",
       "    <tr>\n",
       "      <th>2</th>\n",
       "      <td>3</td>\n",
       "      <td>balinese cat</td>\n",
       "      <td>mammal</td>\n",
       "      <td>yes</td>\n",
       "      <td>yes</td>\n",
       "      <td>yes</td>\n",
       "      <td>no</td>\n",
       "      <td>yes</td>\n",
       "      <td>no</td>\n",
       "      <td>no</td>\n",
       "    </tr>\n",
       "    <tr>\n",
       "      <th>3</th>\n",
       "      <td>4</td>\n",
       "      <td>sparrow</td>\n",
       "      <td>vertebrate</td>\n",
       "      <td>yes</td>\n",
       "      <td>no</td>\n",
       "      <td>no</td>\n",
       "      <td>yes</td>\n",
       "      <td>no</td>\n",
       "      <td>yes</td>\n",
       "      <td>yes</td>\n",
       "    </tr>\n",
       "    <tr>\n",
       "      <th>4</th>\n",
       "      <td>5</td>\n",
       "      <td>coati</td>\n",
       "      <td>mammal</td>\n",
       "      <td>yes</td>\n",
       "      <td>no</td>\n",
       "      <td>no</td>\n",
       "      <td>no</td>\n",
       "      <td>yes</td>\n",
       "      <td>no</td>\n",
       "      <td>no</td>\n",
       "    </tr>\n",
       "  </tbody>\n",
       "</table>\n",
       "</div>"
      ],
      "text/plain": [
       "   id            animal      mammal carrot vegetable chicken meat pork meat  \\\n",
       "0   1      Iberian hare      mammal              yes           no        no   \n",
       "1   2  Golden retriever      mammal              yes          yes       yes   \n",
       "2   3      balinese cat      mammal              yes          yes       yes   \n",
       "3   4           sparrow  vertebrate              yes           no        no   \n",
       "4   5             coati      mammal              yes           no        no   \n",
       "\n",
       "  grains vegetable mouse meat spider insect leaves vegetable  \n",
       "0              yes         no            no               no  \n",
       "1              yes         no            no               no  \n",
       "2               no        yes            no               no  \n",
       "3              yes         no           yes              yes  \n",
       "4               no        yes            no               no  "
      ]
     },
     "execution_count": 1717,
     "metadata": {},
     "output_type": "execute_result"
    }
   ],
   "source": [
    "animals.loc[animals[\"mammal\"] == \"yes\",\"mammal\"] = \"mammal\"\n",
    "animals.loc[animals[\"mammal\"] == \"no\",\"mammal\"] = \"vertebrate\"\n",
    "animals.head()\n"
   ]
  },
  {
   "cell_type": "code",
   "execution_count": 1718,
   "metadata": {},
   "outputs": [
    {
     "data": {
      "text/html": [
       "<div>\n",
       "<style scoped>\n",
       "    .dataframe tbody tr th:only-of-type {\n",
       "        vertical-align: middle;\n",
       "    }\n",
       "\n",
       "    .dataframe tbody tr th {\n",
       "        vertical-align: top;\n",
       "    }\n",
       "\n",
       "    .dataframe thead th {\n",
       "        text-align: right;\n",
       "    }\n",
       "</style>\n",
       "<table border=\"1\" class=\"dataframe\">\n",
       "  <thead>\n",
       "    <tr style=\"text-align: right;\">\n",
       "      <th></th>\n",
       "      <th>id</th>\n",
       "      <th>animal</th>\n",
       "      <th>mammal</th>\n",
       "      <th>carrot vegetable</th>\n",
       "      <th>chicken meat</th>\n",
       "      <th>pork meat</th>\n",
       "      <th>grains vegetable</th>\n",
       "      <th>mouse meat</th>\n",
       "      <th>spider insect</th>\n",
       "      <th>leaves vegetable</th>\n",
       "    </tr>\n",
       "  </thead>\n",
       "  <tbody>\n",
       "    <tr>\n",
       "      <th>12</th>\n",
       "      <td>13</td>\n",
       "      <td>Bombay cat</td>\n",
       "      <td>mammal</td>\n",
       "      <td>yes</td>\n",
       "      <td>yes</td>\n",
       "      <td>yes</td>\n",
       "      <td>no</td>\n",
       "      <td>yes</td>\n",
       "      <td>no</td>\n",
       "      <td>no</td>\n",
       "    </tr>\n",
       "    <tr>\n",
       "      <th>13</th>\n",
       "      <td>14</td>\n",
       "      <td>Lion</td>\n",
       "      <td>mammal</td>\n",
       "      <td>no</td>\n",
       "      <td>yes</td>\n",
       "      <td>yes</td>\n",
       "      <td>no</td>\n",
       "      <td>yes</td>\n",
       "      <td>no</td>\n",
       "      <td>no</td>\n",
       "    </tr>\n",
       "    <tr>\n",
       "      <th>14</th>\n",
       "      <td>15</td>\n",
       "      <td>Java Leopard</td>\n",
       "      <td>mammal</td>\n",
       "      <td>no</td>\n",
       "      <td>yes</td>\n",
       "      <td>yes</td>\n",
       "      <td>no</td>\n",
       "      <td>no</td>\n",
       "      <td>no</td>\n",
       "      <td>no</td>\n",
       "    </tr>\n",
       "    <tr>\n",
       "      <th>15</th>\n",
       "      <td>16</td>\n",
       "      <td>Adder</td>\n",
       "      <td>reptile</td>\n",
       "      <td>no</td>\n",
       "      <td>no</td>\n",
       "      <td>no</td>\n",
       "      <td>no</td>\n",
       "      <td>yes</td>\n",
       "      <td>no</td>\n",
       "      <td>no</td>\n",
       "    </tr>\n",
       "    <tr>\n",
       "      <th>16</th>\n",
       "      <td>17</td>\n",
       "      <td>Whinchat</td>\n",
       "      <td>vertebrate</td>\n",
       "      <td>no</td>\n",
       "      <td>no</td>\n",
       "      <td>no</td>\n",
       "      <td>no</td>\n",
       "      <td>no</td>\n",
       "      <td>yes</td>\n",
       "      <td>no</td>\n",
       "    </tr>\n",
       "    <tr>\n",
       "      <th>17</th>\n",
       "      <td>18</td>\n",
       "      <td>border collie</td>\n",
       "      <td>mammal</td>\n",
       "      <td>yes</td>\n",
       "      <td>yes</td>\n",
       "      <td>yes</td>\n",
       "      <td>yes</td>\n",
       "      <td>no</td>\n",
       "      <td>no</td>\n",
       "      <td>no</td>\n",
       "    </tr>\n",
       "    <tr>\n",
       "      <th>18</th>\n",
       "      <td>19</td>\n",
       "      <td>tortoise</td>\n",
       "      <td>reptile</td>\n",
       "      <td>no</td>\n",
       "      <td>no</td>\n",
       "      <td>no</td>\n",
       "      <td>no</td>\n",
       "      <td>no</td>\n",
       "      <td>no</td>\n",
       "      <td>yes</td>\n",
       "    </tr>\n",
       "    <tr>\n",
       "      <th>19</th>\n",
       "      <td>20</td>\n",
       "      <td>Guinea pig</td>\n",
       "      <td>mammal</td>\n",
       "      <td>yes</td>\n",
       "      <td>no</td>\n",
       "      <td>no</td>\n",
       "      <td>no</td>\n",
       "      <td>no</td>\n",
       "      <td>no</td>\n",
       "      <td>yes</td>\n",
       "    </tr>\n",
       "  </tbody>\n",
       "</table>\n",
       "</div>"
      ],
      "text/plain": [
       "    id         animal      mammal carrot vegetable chicken meat pork meat  \\\n",
       "12  13     Bombay cat      mammal              yes          yes       yes   \n",
       "13  14           Lion      mammal               no          yes       yes   \n",
       "14  15   Java Leopard      mammal               no          yes       yes   \n",
       "15  16          Adder     reptile               no           no        no   \n",
       "16  17       Whinchat  vertebrate               no           no        no   \n",
       "17  18  border collie      mammal              yes          yes       yes   \n",
       "18  19       tortoise     reptile               no           no        no   \n",
       "19  20     Guinea pig      mammal              yes           no        no   \n",
       "\n",
       "   grains vegetable mouse meat spider insect leaves vegetable  \n",
       "12               no        yes            no               no  \n",
       "13               no        yes            no               no  \n",
       "14               no         no            no               no  \n",
       "15               no        yes            no               no  \n",
       "16               no         no           yes               no  \n",
       "17              yes         no            no               no  \n",
       "18               no         no            no              yes  \n",
       "19               no         no            no              yes  "
      ]
     },
     "execution_count": 1718,
     "metadata": {},
     "output_type": "execute_result"
    }
   ],
   "source": [
    "animals.loc[animals[\"animal\"] == \"Adder\",\"mammal\"] = \"reptile\"\n",
    "animals.loc[animals[\"animal\"] == \"tortoise\",\"mammal\"] = \"reptile\"\n",
    "animals[12:]"
   ]
  },
  {
   "cell_type": "markdown",
   "metadata": {},
   "source": [
    "### change column name"
   ]
  },
  {
   "cell_type": "code",
   "execution_count": 1719,
   "metadata": {},
   "outputs": [
    {
     "data": {
      "text/html": [
       "<div>\n",
       "<style scoped>\n",
       "    .dataframe tbody tr th:only-of-type {\n",
       "        vertical-align: middle;\n",
       "    }\n",
       "\n",
       "    .dataframe tbody tr th {\n",
       "        vertical-align: top;\n",
       "    }\n",
       "\n",
       "    .dataframe thead th {\n",
       "        text-align: right;\n",
       "    }\n",
       "</style>\n",
       "<table border=\"1\" class=\"dataframe\">\n",
       "  <thead>\n",
       "    <tr style=\"text-align: right;\">\n",
       "      <th></th>\n",
       "      <th>id</th>\n",
       "      <th>animal</th>\n",
       "      <th>animal species</th>\n",
       "      <th>carrot vegetable</th>\n",
       "      <th>chicken meat</th>\n",
       "      <th>pork meat</th>\n",
       "      <th>grains vegetable</th>\n",
       "      <th>mouse meat</th>\n",
       "      <th>spider insect</th>\n",
       "      <th>leaves vegetable</th>\n",
       "    </tr>\n",
       "  </thead>\n",
       "  <tbody>\n",
       "    <tr>\n",
       "      <th>0</th>\n",
       "      <td>1</td>\n",
       "      <td>Iberian hare</td>\n",
       "      <td>mammal</td>\n",
       "      <td>yes</td>\n",
       "      <td>no</td>\n",
       "      <td>no</td>\n",
       "      <td>yes</td>\n",
       "      <td>no</td>\n",
       "      <td>no</td>\n",
       "      <td>no</td>\n",
       "    </tr>\n",
       "    <tr>\n",
       "      <th>1</th>\n",
       "      <td>2</td>\n",
       "      <td>Golden retriever</td>\n",
       "      <td>mammal</td>\n",
       "      <td>yes</td>\n",
       "      <td>yes</td>\n",
       "      <td>yes</td>\n",
       "      <td>yes</td>\n",
       "      <td>no</td>\n",
       "      <td>no</td>\n",
       "      <td>no</td>\n",
       "    </tr>\n",
       "    <tr>\n",
       "      <th>2</th>\n",
       "      <td>3</td>\n",
       "      <td>balinese cat</td>\n",
       "      <td>mammal</td>\n",
       "      <td>yes</td>\n",
       "      <td>yes</td>\n",
       "      <td>yes</td>\n",
       "      <td>no</td>\n",
       "      <td>yes</td>\n",
       "      <td>no</td>\n",
       "      <td>no</td>\n",
       "    </tr>\n",
       "    <tr>\n",
       "      <th>3</th>\n",
       "      <td>4</td>\n",
       "      <td>sparrow</td>\n",
       "      <td>vertebrate</td>\n",
       "      <td>yes</td>\n",
       "      <td>no</td>\n",
       "      <td>no</td>\n",
       "      <td>yes</td>\n",
       "      <td>no</td>\n",
       "      <td>yes</td>\n",
       "      <td>yes</td>\n",
       "    </tr>\n",
       "    <tr>\n",
       "      <th>4</th>\n",
       "      <td>5</td>\n",
       "      <td>coati</td>\n",
       "      <td>mammal</td>\n",
       "      <td>yes</td>\n",
       "      <td>no</td>\n",
       "      <td>no</td>\n",
       "      <td>no</td>\n",
       "      <td>yes</td>\n",
       "      <td>no</td>\n",
       "      <td>no</td>\n",
       "    </tr>\n",
       "  </tbody>\n",
       "</table>\n",
       "</div>"
      ],
      "text/plain": [
       "   id            animal animal species carrot vegetable chicken meat  \\\n",
       "0   1      Iberian hare         mammal              yes           no   \n",
       "1   2  Golden retriever         mammal              yes          yes   \n",
       "2   3      balinese cat         mammal              yes          yes   \n",
       "3   4           sparrow     vertebrate              yes           no   \n",
       "4   5             coati         mammal              yes           no   \n",
       "\n",
       "  pork meat grains vegetable mouse meat spider insect leaves vegetable  \n",
       "0        no              yes         no            no               no  \n",
       "1       yes              yes         no            no               no  \n",
       "2       yes               no        yes            no               no  \n",
       "3        no              yes         no           yes              yes  \n",
       "4        no               no        yes            no               no  "
      ]
     },
     "execution_count": 1719,
     "metadata": {},
     "output_type": "execute_result"
    }
   ],
   "source": [
    "column_names = animals.columns.values\n",
    "column_names[2] = 'animal species'\n",
    "animals.columns = column_names\n",
    "animals.head()"
   ]
  },
  {
   "cell_type": "markdown",
   "metadata": {},
   "source": [
    "### unify column values"
   ]
  },
  {
   "cell_type": "code",
   "execution_count": 1720,
   "metadata": {},
   "outputs": [
    {
     "data": {
      "text/html": [
       "<div>\n",
       "<style scoped>\n",
       "    .dataframe tbody tr th:only-of-type {\n",
       "        vertical-align: middle;\n",
       "    }\n",
       "\n",
       "    .dataframe tbody tr th {\n",
       "        vertical-align: top;\n",
       "    }\n",
       "\n",
       "    .dataframe thead th {\n",
       "        text-align: right;\n",
       "    }\n",
       "</style>\n",
       "<table border=\"1\" class=\"dataframe\">\n",
       "  <thead>\n",
       "    <tr style=\"text-align: right;\">\n",
       "      <th></th>\n",
       "      <th>id</th>\n",
       "      <th>animal</th>\n",
       "      <th>animal species</th>\n",
       "      <th>carrot vegetable</th>\n",
       "      <th>chicken meat</th>\n",
       "      <th>pork meat</th>\n",
       "      <th>grains vegetable</th>\n",
       "      <th>mouse meat</th>\n",
       "      <th>spider insect</th>\n",
       "      <th>leaves vegetable</th>\n",
       "    </tr>\n",
       "  </thead>\n",
       "  <tbody>\n",
       "    <tr>\n",
       "      <th>0</th>\n",
       "      <td>1</td>\n",
       "      <td>iberian hare</td>\n",
       "      <td>mammal</td>\n",
       "      <td>yes</td>\n",
       "      <td>no</td>\n",
       "      <td>no</td>\n",
       "      <td>yes</td>\n",
       "      <td>no</td>\n",
       "      <td>no</td>\n",
       "      <td>no</td>\n",
       "    </tr>\n",
       "    <tr>\n",
       "      <th>1</th>\n",
       "      <td>2</td>\n",
       "      <td>golden retriever</td>\n",
       "      <td>mammal</td>\n",
       "      <td>yes</td>\n",
       "      <td>yes</td>\n",
       "      <td>yes</td>\n",
       "      <td>yes</td>\n",
       "      <td>no</td>\n",
       "      <td>no</td>\n",
       "      <td>no</td>\n",
       "    </tr>\n",
       "    <tr>\n",
       "      <th>2</th>\n",
       "      <td>3</td>\n",
       "      <td>balinese cat</td>\n",
       "      <td>mammal</td>\n",
       "      <td>yes</td>\n",
       "      <td>yes</td>\n",
       "      <td>yes</td>\n",
       "      <td>no</td>\n",
       "      <td>yes</td>\n",
       "      <td>no</td>\n",
       "      <td>no</td>\n",
       "    </tr>\n",
       "    <tr>\n",
       "      <th>3</th>\n",
       "      <td>4</td>\n",
       "      <td>sparrow</td>\n",
       "      <td>vertebrate</td>\n",
       "      <td>yes</td>\n",
       "      <td>no</td>\n",
       "      <td>no</td>\n",
       "      <td>yes</td>\n",
       "      <td>no</td>\n",
       "      <td>yes</td>\n",
       "      <td>yes</td>\n",
       "    </tr>\n",
       "    <tr>\n",
       "      <th>4</th>\n",
       "      <td>5</td>\n",
       "      <td>coati</td>\n",
       "      <td>mammal</td>\n",
       "      <td>yes</td>\n",
       "      <td>no</td>\n",
       "      <td>no</td>\n",
       "      <td>no</td>\n",
       "      <td>yes</td>\n",
       "      <td>no</td>\n",
       "      <td>no</td>\n",
       "    </tr>\n",
       "  </tbody>\n",
       "</table>\n",
       "</div>"
      ],
      "text/plain": [
       "   id            animal animal species carrot vegetable chicken meat  \\\n",
       "0   1      iberian hare         mammal              yes           no   \n",
       "1   2  golden retriever         mammal              yes          yes   \n",
       "2   3      balinese cat         mammal              yes          yes   \n",
       "3   4           sparrow     vertebrate              yes           no   \n",
       "4   5             coati         mammal              yes           no   \n",
       "\n",
       "  pork meat grains vegetable mouse meat spider insect leaves vegetable  \n",
       "0        no              yes         no            no               no  \n",
       "1       yes              yes         no            no               no  \n",
       "2       yes               no        yes            no               no  \n",
       "3        no              yes         no           yes              yes  \n",
       "4        no               no        yes            no               no  "
      ]
     },
     "execution_count": 1720,
     "metadata": {},
     "output_type": "execute_result"
    }
   ],
   "source": [
    "animals[\"animal\"] = animals[\"animal\"].str.lower() # only small letters\n",
    "animals.head()"
   ]
  },
  {
   "cell_type": "markdown",
   "metadata": {},
   "source": [
    "### count animal species"
   ]
  },
  {
   "cell_type": "code",
   "execution_count": 1721,
   "metadata": {},
   "outputs": [
    {
     "data": {
      "text/plain": [
       "animal species\n",
       "mammal        16\n",
       "vertebrate     2\n",
       "reptile        2\n",
       "Name: count, dtype: int64"
      ]
     },
     "execution_count": 1721,
     "metadata": {},
     "output_type": "execute_result"
    }
   ],
   "source": [
    "animals['animal species'].value_counts() "
   ]
  },
  {
   "cell_type": "markdown",
   "metadata": {},
   "source": [
    "### change string to binary"
   ]
  },
  {
   "cell_type": "code",
   "execution_count": 1722,
   "metadata": {},
   "outputs": [
    {
     "data": {
      "text/html": [
       "<div>\n",
       "<style scoped>\n",
       "    .dataframe tbody tr th:only-of-type {\n",
       "        vertical-align: middle;\n",
       "    }\n",
       "\n",
       "    .dataframe tbody tr th {\n",
       "        vertical-align: top;\n",
       "    }\n",
       "\n",
       "    .dataframe thead th {\n",
       "        text-align: right;\n",
       "    }\n",
       "</style>\n",
       "<table border=\"1\" class=\"dataframe\">\n",
       "  <thead>\n",
       "    <tr style=\"text-align: right;\">\n",
       "      <th></th>\n",
       "      <th>id</th>\n",
       "      <th>animal</th>\n",
       "      <th>animal species</th>\n",
       "      <th>carrot vegetable</th>\n",
       "      <th>chicken meat</th>\n",
       "      <th>pork meat</th>\n",
       "      <th>grains vegetable</th>\n",
       "      <th>mouse meat</th>\n",
       "      <th>spider insect</th>\n",
       "      <th>leaves vegetable</th>\n",
       "    </tr>\n",
       "  </thead>\n",
       "  <tbody>\n",
       "    <tr>\n",
       "      <th>0</th>\n",
       "      <td>1</td>\n",
       "      <td>iberian hare</td>\n",
       "      <td>mammal</td>\n",
       "      <td>1</td>\n",
       "      <td>0</td>\n",
       "      <td>0</td>\n",
       "      <td>1</td>\n",
       "      <td>0</td>\n",
       "      <td>0</td>\n",
       "      <td>0</td>\n",
       "    </tr>\n",
       "    <tr>\n",
       "      <th>1</th>\n",
       "      <td>2</td>\n",
       "      <td>golden retriever</td>\n",
       "      <td>mammal</td>\n",
       "      <td>1</td>\n",
       "      <td>1</td>\n",
       "      <td>1</td>\n",
       "      <td>1</td>\n",
       "      <td>0</td>\n",
       "      <td>0</td>\n",
       "      <td>0</td>\n",
       "    </tr>\n",
       "    <tr>\n",
       "      <th>2</th>\n",
       "      <td>3</td>\n",
       "      <td>balinese cat</td>\n",
       "      <td>mammal</td>\n",
       "      <td>1</td>\n",
       "      <td>1</td>\n",
       "      <td>1</td>\n",
       "      <td>0</td>\n",
       "      <td>1</td>\n",
       "      <td>0</td>\n",
       "      <td>0</td>\n",
       "    </tr>\n",
       "    <tr>\n",
       "      <th>3</th>\n",
       "      <td>4</td>\n",
       "      <td>sparrow</td>\n",
       "      <td>vertebrate</td>\n",
       "      <td>1</td>\n",
       "      <td>0</td>\n",
       "      <td>0</td>\n",
       "      <td>1</td>\n",
       "      <td>0</td>\n",
       "      <td>1</td>\n",
       "      <td>1</td>\n",
       "    </tr>\n",
       "    <tr>\n",
       "      <th>4</th>\n",
       "      <td>5</td>\n",
       "      <td>coati</td>\n",
       "      <td>mammal</td>\n",
       "      <td>1</td>\n",
       "      <td>0</td>\n",
       "      <td>0</td>\n",
       "      <td>0</td>\n",
       "      <td>1</td>\n",
       "      <td>0</td>\n",
       "      <td>0</td>\n",
       "    </tr>\n",
       "  </tbody>\n",
       "</table>\n",
       "</div>"
      ],
      "text/plain": [
       "   id            animal animal species  carrot vegetable  chicken meat  \\\n",
       "0   1      iberian hare         mammal                 1             0   \n",
       "1   2  golden retriever         mammal                 1             1   \n",
       "2   3      balinese cat         mammal                 1             1   \n",
       "3   4           sparrow     vertebrate                 1             0   \n",
       "4   5             coati         mammal                 1             0   \n",
       "\n",
       "   pork meat  grains vegetable  mouse meat  spider insect  leaves vegetable  \n",
       "0          0                 1           0              0                 0  \n",
       "1          1                 1           0              0                 0  \n",
       "2          1                 0           1              0                 0  \n",
       "3          0                 1           0              1                 1  \n",
       "4          0                 0           1              0                 0  "
      ]
     },
     "execution_count": 1722,
     "metadata": {},
     "output_type": "execute_result"
    }
   ],
   "source": [
    "feed = animals.replace(to_replace=\"yes\", value=1)\n",
    "feed = feed.replace(to_replace=\"no\", value=0)\n",
    "feed.head()"
   ]
  },
  {
   "cell_type": "markdown",
   "metadata": {},
   "source": [
    "# **Model modeling**"
   ]
  },
  {
   "cell_type": "code",
   "execution_count": 1723,
   "metadata": {},
   "outputs": [],
   "source": [
    "from sklearn import tree # A decision tree classifier"
   ]
  },
  {
   "cell_type": "markdown",
   "metadata": {},
   "source": [
    "##### get training data"
   ]
  },
  {
   "cell_type": "code",
   "execution_count": 1724,
   "metadata": {},
   "outputs": [],
   "source": [
    "feed_droped_columns = feed.drop(['id','animal'], axis=1)\n",
    "feed_split_columns = feed_droped_columns[:16]\n",
    "feed_grouped_columns = feed_split_columns.groupby([\"animal species\"],group_keys=False)\n",
    "feed_mean_columns = feed_grouped_columns.mean()\n",
    "\n",
    "# training data  \n",
    "training_labels = feed_mean_columns.index\n",
    "training_data = feed_mean_columns"
   ]
  },
  {
   "cell_type": "markdown",
   "metadata": {},
   "source": [
    "##### get test data"
   ]
  },
  {
   "cell_type": "code",
   "execution_count": 1725,
   "metadata": {},
   "outputs": [],
   "source": [
    "test_feed_split_columns = feed_droped_columns[16:]\n",
    "test_feed_split_columns\n",
    "\n",
    "# test data  \n",
    "test_labels = test_feed_split_columns['animal species']\n",
    "test_data = test_feed_split_columns.drop(['animal species'], axis=1)"
   ]
  },
  {
   "cell_type": "markdown",
   "metadata": {},
   "source": [
    "##### create decision tree"
   ]
  },
  {
   "cell_type": "code",
   "execution_count": 1726,
   "metadata": {},
   "outputs": [
    {
     "name": "stdout",
     "output_type": "stream",
     "text": [
      "decision tree created\n"
     ]
    }
   ],
   "source": [
    "decision_tree = tree.DecisionTreeClassifier(max_depth=2)\n",
    "decision_tree.fit(training_data, training_labels)\n",
    "print(\"decision tree created\")"
   ]
  },
  {
   "cell_type": "code",
   "execution_count": 1727,
   "metadata": {},
   "outputs": [],
   "source": [
    "from matplotlib import pyplot as plt # comprehensive library for creating static, animated, and interactive visualizations "
   ]
  },
  {
   "cell_type": "code",
   "execution_count": 1728,
   "metadata": {},
   "outputs": [
    {
     "data": {
      "text/plain": [
       "[Text(0.6, 0.8333333333333334, 'chicken meat <= 0.286\\ngini = 0.667\\nsamples = 3\\nvalue = [1, 1, 1]\\nclass = mammal'),\n",
       " Text(0.4, 0.5, 'carrot vegetable <= 0.5\\ngini = 0.5\\nsamples = 2\\nvalue = [0, 1, 1]\\nclass = reptile'),\n",
       " Text(0.2, 0.16666666666666666, 'gini = 0.0\\nsamples = 1\\nvalue = [0, 1, 0]\\nclass = reptile'),\n",
       " Text(0.6, 0.16666666666666666, 'gini = 0.0\\nsamples = 1\\nvalue = [0, 0, 1]\\nclass = vertebrate'),\n",
       " Text(0.8, 0.5, 'gini = 0.0\\nsamples = 1\\nvalue = [1, 0, 0]\\nclass = mammal')]"
      ]
     },
     "execution_count": 1728,
     "metadata": {},
     "output_type": "execute_result"
    },
    {
     "data": {
      "image/png": "[encoded data removed]",
      "text/plain": [
       "<Figure size 1000x500 with 1 Axes>"
      ]
     },
     "metadata": {},
     "output_type": "display_data"
    }
   ],
   "source": [
    "fig = plt.figure(figsize=(10,5))\n",
    "tree.plot_tree(decision_tree, feature_names=training_data.columns.values, class_names=training_labels,filled=True)"
   ]
  },
  {
   "cell_type": "code",
   "execution_count": 1729,
   "metadata": {},
   "outputs": [
    {
     "name": "stdout",
     "output_type": "stream",
     "text": [
      "prediction created\n"
     ]
    }
   ],
   "source": [
    "test_decision_tree = decision_tree.predict(test_data)\n",
    "print(\"prediction created\")"
   ]
  },
  {
   "cell_type": "code",
   "execution_count": 1730,
   "metadata": {},
   "outputs": [
    {
     "data": {
      "image/png": "[encoded data removed]",
      "text/plain": [
       "<Figure size 700x500 with 2 Axes>"
      ]
     },
     "metadata": {},
     "output_type": "display_data"
    }
   ],
   "source": [
    "import numpy as np # multi-dimensional arrays and matrices, along with a large collection of high-level mathematical functions\n",
    "from sklearn.metrics import confusion_matrix\n",
    "import itertools # various functions that work on iterators\n",
    "\n",
    "test_labels_unique = np.unique(test_labels)\n",
    "confusion_matrix = confusion_matrix(test_labels, test_decision_tree, labels = test_labels_unique)\n",
    "title = 'Confusion Matrix'\n",
    "cmap = plt.cm.Reds\n",
    "\n",
    "plt.figure(figsize=(7, 5))\n",
    "confusion_matrix = (confusion_matrix.astype('float') / confusion_matrix.sum(axis=1)[:, np.newaxis]) * 100\n",
    "plt.imshow(confusion_matrix, interpolation='nearest', cmap=cmap)\n",
    "plt.title(title)\n",
    "plt.colorbar()\n",
    "tick_marks = np.arange(len(test_labels_unique))\n",
    "plt.xticks(tick_marks, test_labels_unique)\n",
    "plt.yticks(tick_marks, test_labels_unique)\n",
    "\n",
    "fmt = '.2f'\n",
    "thresh = confusion_matrix.max() / 2.\n",
    "for i, j in itertools.product(range(confusion_matrix.shape[0]), range(confusion_matrix.shape[1])):\n",
    "    plt.text(j, i, format(confusion_matrix[i, j], fmt),\n",
    "             horizontalalignment=\"center\",\n",
    "             color=\"white\" if confusion_matrix[i, j] > thresh else \"black\")\n",
    "\n",
    "plt.tight_layout()\n",
    "plt.ylabel('True label')\n",
    "plt.xlabel('Predicted label')\n",
    "\n",
    "plt.show()"
   ]
  }
 ],
 "metadata": {
  "kernelspec": {
   "display_name": "scaja_data_notebooks",
   "language": "python",
   "name": "python3"
  },
  "language_info": {
   "codemirror_mode": {
    "name": "ipython",
    "version": 3
   },
   "file_extension": ".py",
   "mimetype": "text/x-python",
   "name": "python",
   "nbconvert_exporter": "python",
   "pygments_lexer": "ipython3",
   "version": "3.11.7"
  }
 },
 "nbformat": 4,
 "nbformat_minor": 2
}
